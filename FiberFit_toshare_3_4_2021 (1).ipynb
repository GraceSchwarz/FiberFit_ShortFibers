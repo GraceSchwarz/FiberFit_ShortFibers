{
 "cells": [
  {
   "cell_type": "markdown",
   "metadata": {},
   "source": [
    "# Fiber Analysis; Modified from FiberFit Software\n",
    "## software  is from [this paper](https://link.springer.com/article/10.1007/s10237-016-0776-3) and Github with original program can be viewed [here.](https://github.com/NTMatBoiseState/FiberFit/tree/master/src/fiberfit_model)\n",
    "#### this software below is same as above, but it allows for bulk proccessing and provides potential for export of raw data and custom formatting of images\n",
    "\n",
    "### Steps:  First, Upload your Images for analysis. A minimum of two images is required for the first part of the program."
   ]
  },
  {
   "cell_type": "code",
   "execution_count": 21,
   "metadata": {},
   "outputs": [
    {
     "data": {
      "application/vnd.jupyter.widget-view+json": {
       "model_id": "1219dbd5358a4a279143910349bcd993",
       "version_major": 2,
       "version_minor": 0
      },
      "text/plain": [
       "FileUpload(value={}, description='Upload', multiple=True, style=ButtonStyle(button_color='lightblue'))"
      ]
     },
     "metadata": {},
     "output_type": "display_data"
    }
   ],
   "source": [
    "from widgetsmp import s,run,run2,save,clear\n",
    "from src.foruploading5 import ff,upload,prepimages\n",
    "import ipywidgets as widgets\n",
    "from IPython.display import display, Markdown, clear_output\n",
    "from ipywidgets import interact, interact_manual\n",
    "import os\n",
    "import glob\n",
    "## Remove blank file from output folder\n",
    "files = glob.glob('Data/*',recursive=True)\n",
    "for f in files:\n",
    "    try:\n",
    "        os.remove(f)\n",
    "    except OSError as e:\n",
    "        print(\"Error: %s : %s\" % (f, e.strerror))\n",
    "s = widgets.FileUpload(accept='', multiple=True)\n",
    "upload(s)\n",
    "s"
   ]
  },
  {
   "cell_type": "markdown",
   "metadata": {},
   "source": [
    "### Next, Run Code. Input maximum and minimum fiber thickness for fibers, desired angle increment and radial step size. Suggested values are shown in boxes. Output will be in \"output\" folder on home page. CSV output provides alignment data in order of images uploaded."
   ]
  },
  {
   "cell_type": "code",
   "execution_count": 2,
   "metadata": {},
   "outputs": [
    {
     "data": {
      "application/vnd.jupyter.widget-view+json": {
       "model_id": "946208961e984985872728f647d5d0f8",
       "version_major": 2,
       "version_minor": 0
      },
      "text/plain": [
       "VBox(children=(Text(value='', description='Max fiber Thickness (pixels)', layout=Layout(width='300px'), placeh…"
      ]
     },
     "metadata": {},
     "output_type": "display_data"
    },
    {
     "data": {
      "application/vnd.jupyter.widget-view+json": {
       "model_id": "5ad1c51d823b4ee79cf4b604d108fcff",
       "version_major": 2,
       "version_minor": 0
      },
      "text/plain": [
       "Output()"
      ]
     },
     "metadata": {},
     "output_type": "display_data"
    }
   ],
   "source": [
    "run(_)### Next, Run Code. Input maximum and minimum fiber thickness for fibers, desired angle increment and radial step size. Suggested values are shown in boxes. Output will be in \"output\" folder on home page. Can Download images and .csv from there (working on including .zip file download)"
   ]
  },
  {
   "cell_type": "markdown",
   "metadata": {},
   "source": [
    "### Next, Create zip file to download."
   ]
  },
  {
   "cell_type": "code",
   "execution_count": 9,
   "metadata": {
    "scrolled": true
   },
   "outputs": [
    {
     "name": "stdout",
     "output_type": "stream",
     "text": [
      "output/blank.txt\r\n",
      "output/data_export.csv\r\n",
      "output/FFT Norm Test Image_90_0.7_90.03_0.7_0.572972.png\r\n",
      "output/GroupedNorm Test Image_90_0.7_90.03_0.7_0.572972.png\r\n",
      "output/Normdist Norm Test Image_90_0.7_90.03_0.7_0.572972.png\r\n",
      "output/polarpositiveNorm Test Image_90_0.7_90.03_0.7_0.572972.png\r\n"
     ]
    }
   ],
   "source": [
    "!tar chvfz notebook.tar.gz output/*;"
   ]
  },
  {
   "cell_type": "markdown",
   "metadata": {},
   "source": [
    "### Finally, download output file by clicking on download link. Files include images for analysis and bulk .csv file. Delete files in Data and output file by clicking on clear data button prior to running a new set of files."
   ]
  },
  {
   "cell_type": "code",
   "execution_count": 10,
   "metadata": {},
   "outputs": [
    {
     "data": {
      "application/vnd.jupyter.widget-view+json": {
       "model_id": "49efbe4520b74682b4ffdd09e8144e08",
       "version_major": 2,
       "version_minor": 0
      },
      "text/plain": [
       "HTML(value='<html>\\n    <head>\\n    <meta name=\"viewport\" content=\"width=device-width, initial-scale=1\">\\n    …"
      ]
     },
     "metadata": {},
     "output_type": "display_data"
    },
    {
     "data": {
      "application/vnd.jupyter.widget-view+json": {
       "model_id": "88286a86a8b34902a9b4f03ddcf0d925",
       "version_major": 2,
       "version_minor": 0
      },
      "text/plain": [
       "VBox(children=(Button(description='Clear Data', layout=Layout(width='300px'), style=ButtonStyle()),))"
      ]
     },
     "metadata": {},
     "output_type": "display_data"
    },
    {
     "data": {
      "application/vnd.jupyter.widget-view+json": {
       "model_id": "4ba3b33e785d412287f14f2e0bcecaf3",
       "version_major": 2,
       "version_minor": 0
      },
      "text/plain": [
       "Output()"
      ]
     },
     "metadata": {},
     "output_type": "display_data"
    }
   ],
   "source": [
    "save(_)\n",
    "clear(_)"
   ]
  },
  {
   "cell_type": "markdown",
   "metadata": {},
   "source": [
    "### Next, if desired, run code below for color maps of fiber orientation and diameter thickness (code modified from  [this paper](https://journals.plos.org/plosone/article?id=10.1371/journal.pone.0215137).  Again, output will be in \"output\" folder. \n",
    "###### Note: These color maps are from a program called Quanfima. This is a method that utilizes alternative calculation method than above. It takes longer to calculate, but can be used qualitatively against csv + image outputs in above program to confirm if similar results. PNG or JPEG files are suggested for speedier calculations."
   ]
  },
  {
   "cell_type": "markdown",
   "metadata": {},
   "source": [
    "### Steps:  First, Upload a single image for analysis"
   ]
  },
  {
   "cell_type": "code",
   "execution_count": 16,
   "metadata": {},
   "outputs": [
    {
     "data": {
      "application/vnd.jupyter.widget-view+json": {
       "model_id": "d6c9c56930834fe4b1de43240ffbf059",
       "version_major": 2,
       "version_minor": 0
      },
      "text/plain": [
       "FileUpload(value={}, description='Upload', multiple=True, style=ButtonStyle(button_color='lightblue'))"
      ]
     },
     "metadata": {},
     "output_type": "display_data"
    }
   ],
   "source": [
    "s = widgets.FileUpload(accept='', multiple=True)\n",
    "upload(s)\n",
    "s"
   ]
  },
  {
   "cell_type": "markdown",
   "metadata": {},
   "source": [
    "### Steps: Next, run analysis"
   ]
  },
  {
   "cell_type": "code",
   "execution_count": 17,
   "metadata": {},
   "outputs": [
    {
     "data": {
      "application/vnd.jupyter.widget-view+json": {
       "model_id": "fb442c2f98e54c3bb0b6ac739c1b7e4e",
       "version_major": 2,
       "version_minor": 0
      },
      "text/plain": [
       "VBox(children=(Button(description='Run Fiber Orientation Visualization', layout=Layout(width='300px'), style=B…"
      ]
     },
     "metadata": {},
     "output_type": "display_data"
    },
    {
     "data": {
      "application/vnd.jupyter.widget-view+json": {
       "model_id": "dd6c1dc8b1de40b58b4888777f056456",
       "version_major": 2,
       "version_minor": 0
      },
      "text/plain": [
       "Output()"
      ]
     },
     "metadata": {},
     "output_type": "display_data"
    }
   ],
   "source": [
    "run2(_)"
   ]
  },
  {
   "cell_type": "markdown",
   "metadata": {},
   "source": [
    "## Create output file to download"
   ]
  },
  {
   "cell_type": "code",
   "execution_count": 18,
   "metadata": {},
   "outputs": [
    {
     "name": "stdout",
     "output_type": "stream",
     "text": [
      "output/blank.txt\r\n",
      "output/data_export.csv\r\n",
      "output/DIAMETER_estimate_diameter_map.png\r\n",
      "output/FFT Norm Test Image_90_0.7_90.03_0.7_0.572972.png\r\n",
      "output/GroupedNorm Test Image_90_0.7_90.03_0.7_0.572972.png\r\n",
      "output/Normdist Norm Test Image_90_0.7_90.03_0.7_0.572972.png\r\n",
      "output/orientation_map.png\r\n",
      "output/polarpositiveNorm Test Image_90_0.7_90.03_0.7_0.572972.png\r\n"
     ]
    }
   ],
   "source": [
    "!tar chvfz notebook.tar.gz output/*;"
   ]
  },
  {
   "cell_type": "markdown",
   "metadata": {},
   "source": [
    "## Download output file by clicking on download link. Files include images shown above. Click clear data to clear input and output data to run again."
   ]
  },
  {
   "cell_type": "code",
   "execution_count": 22,
   "metadata": {},
   "outputs": [
    {
     "data": {
      "application/vnd.jupyter.widget-view+json": {
       "model_id": "174fbb910ab040e8a5fa987c4153fdeb",
       "version_major": 2,
       "version_minor": 0
      },
      "text/plain": [
       "HTML(value='<html>\\n    <head>\\n    <meta name=\"viewport\" content=\"width=device-width, initial-scale=1\">\\n    …"
      ]
     },
     "metadata": {},
     "output_type": "display_data"
    },
    {
     "data": {
      "application/vnd.jupyter.widget-view+json": {
       "model_id": "2064a8163800430889b35cf83acec5d9",
       "version_major": 2,
       "version_minor": 0
      },
      "text/plain": [
       "VBox(children=(Button(description='Clear Data', layout=Layout(width='300px'), style=ButtonStyle()),))"
      ]
     },
     "metadata": {},
     "output_type": "display_data"
    },
    {
     "data": {
      "application/vnd.jupyter.widget-view+json": {
       "model_id": "a1ea08f6586e4c4fbfdf93246adcd69f",
       "version_major": 2,
       "version_minor": 0
      },
      "text/plain": [
       "Output()"
      ]
     },
     "metadata": {},
     "output_type": "display_data"
    }
   ],
   "source": [
    "save(_)\n",
    "clear(_)"
   ]
  },
  {
   "cell_type": "code",
   "execution_count": null,
   "metadata": {},
   "outputs": [],
   "source": []
  }
 ],
 "metadata": {
  "kernelspec": {
   "display_name": "Python 3",
   "language": "python",
   "name": "python3"
  },
  "language_info": {
   "codemirror_mode": {
    "name": "ipython",
    "version": 3
   },
   "file_extension": ".py",
   "mimetype": "text/x-python",
   "name": "python",
   "nbconvert_exporter": "python",
   "pygments_lexer": "ipython3",
   "version": "3.7.9"
  }
 },
 "nbformat": 4,
 "nbformat_minor": 2
}
